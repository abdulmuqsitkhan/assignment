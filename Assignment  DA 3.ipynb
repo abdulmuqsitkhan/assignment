{
 "cells": [
  {
   "cell_type": "markdown",
   "metadata": {},
   "source": [
    "# Q no 1 : Find all of the numbers from 1-1000 that are divisible by 7 by making a list using list comprehension and print it."
   ]
  },
  {
   "cell_type": "code",
   "execution_count": 3,
   "metadata": {},
   "outputs": [
    {
     "name": "stdout",
     "output_type": "stream",
     "text": [
      "Enter the divisible value: 7\n",
      "[7, 14, 21, 28, 35, 42, 49, 56, 63, 70, 77, 84, 91, 98, 105, 112, 119, 126, 133, 140, 147, 154, 161, 168, 175, 182, 189, 196, 203, 210, 217, 224, 231, 238, 245, 252, 259, 266, 273, 280, 287, 294, 301, 308, 315, 322, 329, 336, 343, 350, 357, 364, 371, 378, 385, 392, 399, 406, 413, 420, 427, 434, 441, 448, 455, 462, 469, 476, 483, 490, 497, 504, 511, 518, 525, 532, 539, 546, 553, 560, 567, 574, 581, 588, 595, 602, 609, 616, 623, 630, 637, 644, 651, 658, 665, 672, 679, 686, 693, 700, 707, 714, 721, 728, 735, 742, 749, 756, 763, 770, 777, 784, 791, 798, 805, 812, 819, 826, 833, 840, 847, 854, 861, 868, 875, 882, 889, 896, 903, 910, 917, 924, 931, 938, 945, 952, 959, 966, 973, 980, 987, 994]\n"
     ]
    }
   ],
   "source": [
    "num = int(input(\"Enter the divisible value: \"))\n",
    "divisible_list = []\n",
    "for i in range(1,1000):\n",
    "    if i%num==0:\n",
    "        divisible_list.append(i)\n",
    "print(divisible_list)\n",
    "        "
   ]
  },
  {
   "cell_type": "markdown",
   "metadata": {},
   "source": [
    "# Q no 2 : Write a script that draws a triangle as below:¶"
   ]
  },
  {
   "cell_type": "raw",
   "metadata": {},
   "source": [
    "*\n",
    "**\n",
    "***\n",
    "****\n",
    "*****\n",
    "******\n",
    "*******\n",
    "********\n",
    "*********\n",
    "**********\n",
    "***********\n",
    "************"
   ]
  },
  {
   "cell_type": "code",
   "execution_count": 6,
   "metadata": {},
   "outputs": [
    {
     "name": "stdout",
     "output_type": "stream",
     "text": [
      "enter the number of star triangle bottom should have: 9\n",
      "*\n",
      "**\n",
      "***\n",
      "****\n",
      "*****\n",
      "******\n",
      "*******\n",
      "********\n",
      "*********\n"
     ]
    }
   ],
   "source": [
    "num = int(input(\"enter the number of star triangle bottom should have: \"))\n",
    "for stars in range(1,num+1):\n",
    "    \n",
    "    print(\"*\" * stars)"
   ]
  },
  {
   "cell_type": "code",
   "execution_count": null,
   "metadata": {},
   "outputs": [],
   "source": []
  },
  {
   "cell_type": "markdown",
   "metadata": {},
   "source": [
    "# Q no 3: Write a script that draws a geometric shape as below:"
   ]
  },
  {
   "cell_type": "raw",
   "metadata": {},
   "source": [
    "*\n",
    "**\n",
    "***\n",
    "****\n",
    "*****\n",
    "******\n",
    "*******\n",
    "******\n",
    "*****\n",
    "****\n",
    "***\n",
    "**\n",
    "*"
   ]
  },
  {
   "cell_type": "code",
   "execution_count": 14,
   "metadata": {},
   "outputs": [
    {
     "name": "stdout",
     "output_type": "stream",
     "text": [
      "enter the highest number of star : 6\n",
      "*\n",
      "**\n",
      "***\n",
      "****\n",
      "*****\n",
      "******\n",
      "*****\n",
      "****\n",
      "***\n",
      "**\n",
      "*\n"
     ]
    }
   ],
   "source": [
    "num = int(input(\"enter the highest number of star : \"))\n",
    "for stars in range(1,num+1):\n",
    "    print(\"*\" * stars)\n",
    "    if stars == (num):\n",
    "        for i in range(num-1,0,-1):\n",
    "            print(\"*\" * i)"
   ]
  },
  {
   "cell_type": "markdown",
   "metadata": {},
   "source": [
    "# Question # 4:"
   ]
  },
  {
   "cell_type": "raw",
   "metadata": {},
   "source": [
    "Using one of the programs you wrote in this chapter, add several lines to the end of the program that do the following:\n",
    "\n",
    "• Print the message, The first three items in the list are:. Then use a slice to print the first three items from that program’s list.\n",
    "\n",
    "• Print the message, Three items from the middle of the list are:. Use a slice to print three items from the middle of the list.\n",
    "\n",
    "• Print the message, The last three items in the list are:. Use a slice to print the last three items in the list.\n",
    "\n",
    "\n",
    "\n",
    "#Hint: you have to use for loop."
   ]
  },
  {
   "cell_type": "code",
   "execution_count": null,
   "metadata": {},
   "outputs": [],
   "source": []
  },
  {
   "cell_type": "code",
   "execution_count": 25,
   "metadata": {},
   "outputs": [
    {
     "name": "stdout",
     "output_type": "stream",
     "text": [
      "The first three items in the list are: [7, 14, 21]\n",
      "The last three items in the list are: [980, 987, 994]\n",
      "Three items from the middle of the list are: [490, 497, 504]\n"
     ]
    }
   ],
   "source": [
    "\n",
    "print(\"The first three items in the list are: \" + str(divisible_list[:3]))\n",
    "print(\"The last three items in the list are: \" + str(divisible_list[-3:]))\n",
    "middleindex=(len(divisible_list)-1)/2\n",
    "before_middle = int(middleindex-1)\n",
    "aftermiddle = int(middleindex+2)\n",
    "print(\"Three items from the middle of the list are: \" + str(divisible_list[before_middle:aftermiddle]))\n",
    "    "
   ]
  },
  {
   "cell_type": "markdown",
   "metadata": {},
   "source": [
    "or we can do this also"
   ]
  },
  {
   "cell_type": "code",
   "execution_count": null,
   "metadata": {},
   "outputs": [],
   "source": [
    "print(\"The first three items in the list are: \" + str(divisible_list[0:3]))"
   ]
  },
  {
   "cell_type": "code",
   "execution_count": null,
   "metadata": {},
   "outputs": [],
   "source": []
  },
  {
   "cell_type": "markdown",
   "metadata": {},
   "source": [
    "# Question # 5:"
   ]
  },
  {
   "cell_type": "raw",
   "metadata": {},
   "source": [
    "Make a copy of the list of pizzas, and call it friend_pizzas. Then, do the following:\n",
    "\n",
    "• Add a new pizza to the original list.\n",
    "\n",
    "• Add a different pizza to the list friend_pizzas.\n",
    "\n",
    "•Prove that you have two separate lists. Print the message, My favorite pizzas are:, and then use a for loop to print the first list. Print the message, My friend’s favorite pizzas are:, and then use a for loop to print the second list. "
   ]
  },
  {
   "cell_type": "code",
   "execution_count": 35,
   "metadata": {},
   "outputs": [
    {
     "data": {
      "text/plain": [
       "False"
      ]
     },
     "execution_count": 35,
     "metadata": {},
     "output_type": "execute_result"
    }
   ],
   "source": [
    "my_pizza=[\"Super Supreme\",\"Fajita\",\"Hot & Spicy\",\"Cheese\",\"Creamy Tikka\"]\n",
    "friend_pizza=[\"Super Supreme\",\"Fajita\",\"Hot & Spicy\",\"Cheese\",\"Vegetable\"]\n",
    "my_pizza == friend_pizza\n"
   ]
  },
  {
   "cell_type": "code",
   "execution_count": 44,
   "metadata": {},
   "outputs": [
    {
     "name": "stdout",
     "output_type": "stream",
     "text": [
      "My favourite pizzas are:\n",
      " \n",
      "\tSuper Supreme\n",
      "\tFajita\n",
      "\tHot & Spicy\n",
      "\tCheese\n",
      "\tCreamy Tikka\n",
      "\n",
      "My friends favourite pizzas are:\n",
      " \n",
      "\tSuper Supreme\n",
      "\tFajita\n",
      "\tHot & Spicy\n",
      "\tCheese\n",
      "\tVegetable\n"
     ]
    }
   ],
   "source": [
    "print(\"My favourite pizzas are:\\n \")\n",
    "for pi in my_pizza:\n",
    "    print(\"\\t\"+ pi)\n",
    "print(\"\\nMy friends favourite pizzas are:\\n \")\n",
    "for pi in friend_pizza:\n",
    "    print(\"\\t\" +pi)"
   ]
  },
  {
   "cell_type": "code",
   "execution_count": null,
   "metadata": {},
   "outputs": [],
   "source": []
  },
  {
   "cell_type": "markdown",
   "metadata": {},
   "source": [
    "# Question # 6:"
   ]
  },
  {
   "cell_type": "raw",
   "metadata": {},
   "source": [
    "Do the following to create a program that simulates\n",
    "how websites ensure that everyone has a unique username.\n",
    "\n",
    "•\t Make a list of five or more usernames called current_users.\n",
    "\n",
    "•\t Make another list of five usernames called new_users. Make sure one or\n",
    "two of the new usernames are also in the current_users list.\n",
    "\n",
    "•\t Loop through the new_users list to see if each new username has already\n",
    "been used. If it has, print a message that the person will need to enter a\n",
    "new username. If a username has not been used, print a message saying\n",
    "that the username is available.\n",
    "\n",
    "•\t Make sure your comparison is case insensitive. If 'John' has been used,\n",
    "'JOHN' should not be accepted."
   ]
  },
  {
   "cell_type": "code",
   "execution_count": 55,
   "metadata": {},
   "outputs": [
    {
     "name": "stdout",
     "output_type": "stream",
     "text": [
      "Usman already taken try another\n",
      "ALI already taken try another\n",
      "Javeria is available\n",
      "Imtiaz is available\n",
      "Mahnoor is available\n"
     ]
    }
   ],
   "source": [
    "current_users = [\"Usman\",\"Ali\",\"Usama\",\"Mehrooz\",\"Raheel\",\"Arslan\"]\n",
    "new_users = [\"Usman\",\"ALI\",\"Javeria\",\"Imtiaz\",\"Mahnoor\"]\n",
    "for user in new_users:\n",
    "    if user.title() in current_users:\n",
    "        print(user+ \" already taken try another\")\n",
    "    else:\n",
    "        print(user + \" is available\")\n"
   ]
  },
  {
   "cell_type": "code",
   "execution_count": null,
   "metadata": {},
   "outputs": [],
   "source": []
  },
  {
   "cell_type": "code",
   "execution_count": null,
   "metadata": {},
   "outputs": [],
   "source": []
  },
  {
   "cell_type": "code",
   "execution_count": null,
   "metadata": {},
   "outputs": [],
   "source": []
  }
 ],
 "metadata": {
  "kernelspec": {
   "display_name": "Python 3",
   "language": "python",
   "name": "python3"
  },
  "language_info": {
   "codemirror_mode": {
    "name": "ipython",
    "version": 3
   },
   "file_extension": ".py",
   "mimetype": "text/x-python",
   "name": "python",
   "nbconvert_exporter": "python",
   "pygments_lexer": "ipython3",
   "version": "3.7.1"
  }
 },
 "nbformat": 4,
 "nbformat_minor": 2
}
